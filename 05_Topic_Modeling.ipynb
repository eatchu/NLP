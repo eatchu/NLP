{
 "cells": [
  {
   "cell_type": "markdown",
   "metadata": {},
   "source": [
    "---\n",
    "---\n",
    "---\n",
    "# ***Topic Modeling***\n",
    "---\n",
    "---\n",
    "---\n",
    "\n",
    "1. *Latent Semantic Analysis, LSA*\n",
    "2. *Latent Dirichlet Allocation, LDA*\n"
   ]
  },
  {
   "cell_type": "markdown",
   "metadata": {},
   "source": [
    "---\n",
    "## 1. ***Latent Semantic Analysis, LSA***\n",
    "---\n",
    "\n",
    "***`잠재 의미 분석`***\n",
    "\n",
    "- BoW에 기반한 DTM이나 TF-IDF는 기본적으로 단어의 빈도 수를 이용한 수치화 방법이기 때문에 단어의 의미를 고려하지 못한다는 단점이 존재\n",
    "- 이를 위한 대안으로 DTM의 잠재된(Latent) 의미를 이끌어내는 방법\n",
    "\n",
    "\n",
    "<br>\n",
    "\n",
    "#### ***1. Singular Value Decomposition, SVD***\n",
    "\n",
    "***`특이값 분해`*** <br> <br>\n",
    "$A = U\\Sigma V^T$\n",
    "\n",
    "$U : m \\times m \\; 직교행렬 \\; (AA^T = U(\\Sigma\\Sigma^T)U^T)$ <br>\n",
    "$V : n \\times n \\; 직교행렬 \\; (A^TA = V(\\Sigma^T\\Sigma)V^T)$ <br>\n",
    "$\\Sigma : m \\times n \\; 직사각 대각행렬$\n",
    "\n",
    "<br>\n",
    "\n",
    "\n",
    "1. ***전치 행렬 (Transposed Matrix)***\n",
    "     - 원래의 행렬에서 행과 열을 바꾼 행렬]\n",
    "     \n",
    ">example : M(3x2) -> M(2x3) <br>\n",
    "\n",
    "$M = \\begin{bmatrix}1&2\\\\3&4\\\\5&6\\\\ \\end{bmatrix} \\;\\;$ \n",
    "$M^T = \\begin{bmatrix}1&3&5\\\\2&4&6\\\\ \\end{bmatrix}$\n",
    "\n",
    "<br>\n",
    "\n",
    "2. ***단위 행렬 (Identity Matrix)***\n",
    "     - 주대각선의 원소가 모두 1이며 나머지 원소는 모두 0인 정사각 행렬\n",
    " \n",
    ">example : I(2x2), I(3x3) <br>\n",
    "\n",
    "$I = \\begin{bmatrix}1&0\\\\0&1\\\\\\end{bmatrix} \\;\\;$ \n",
    "$I = \\begin{bmatrix}1&0&0\\\\0&1&0\\\\0&0&1\\\\ \\end{bmatrix}$\n",
    "\n",
    "<br>\n",
    "\n",
    "3. ***역행렬(Inverse Matrix)***\n",
    "     - 행렬 와 어떤 행렬을 곱했을 때, 결과로서 단위 행렬이 나온다면 이때의 어떤 행렬을 의 역행렬이라고 하며, 라고 표현\n",
    "   \n",
    "\n",
    " \n",
    ">example : $A \\times A^{-1} = I$ <br>\n",
    "\n",
    "$A \\begin{bmatrix}1&2&3\\\\4&5&6\\\\7&8&9\\\\\\end{bmatrix} \\;\\; \\times \\;\\;$ \n",
    "$A^{-1}\\begin{bmatrix}?\\\\ \\end{bmatrix} \\;\\; = \\;\\; I\\begin{bmatrix}1&0&0\\\\0&1&0\\\\0&0&1\\\\\\end{bmatrix}$\n",
    "\n",
    "<br>\n",
    "\n",
    "4. ***직교 행렬(Orthogonal matrix)***\n",
    "     - 실수 $n\\times n$행렬 $A$에 대해서 $A\\times A^T=I$를 만족하면서 $A^T\\times A = I$을 만족하는 행렬 \n",
    "     - 즉, $A^{-1} = A^T$를 만족\n",
    " \n",
    "<br>\n",
    "\n",
    "5. ***대각 행렬(Diagonal matrix)***\n",
    "     - 주대각선을 제외한 곳의 원소가 모두 0인 행렬\n",
    "   \n",
    "\n",
    ">example : $\\Sigma$(3x3) <br>\n",
    "\n",
    "$\\Sigma = \\begin{bmatrix}a&0&0\\\\0&a&0\\\\0&0&a\\\\ \\end{bmatrix}$\n",
    "\n",
    "<br>"
   ]
  },
  {
   "cell_type": "markdown",
   "metadata": {},
   "source": [
    "<br>\n",
    "\n",
    "#### ***2. Truncated SVD***\n",
    "\n",
    "- LSA의 경우 풀 SVD에서 나온 3개의 행렬에서 일부 벡터들을 삭제시킨 절단된 SVD(truncated SVD)를 사용\n",
    "- 절단된 SVD는 대각 행렬 Σ의 대각 원소의 값 중에서 상위값 t개만 남음\n",
    "- 절단된 SVD를 수행하면 값의 손실이 일어나므로 기존의 행렬 A를 복구할 수 없음\n",
    "\n",
    "\n",
    "![](https://wikidocs.net/images/page/24949/svd%EC%99%80truncatedsvd.PNG) <br> <br>\n",
    "\n",
    " - U행렬과 V행렬의 t열까지만 남음\n",
    " - 여기서 t는 우리가 찾고자하는 토픽의 수를 반영한 하이퍼파라미터값\n",
    " - t를 크게 잡으면 기존의 행렬 A로부터 다양한 의미를 가져갈 수 있지만, t를 작게 잡아야만 노이즈를 제거할 수 있음\n",
    "\n",
    "> 이렇게 데이터의 차원을 줄이게 되면 **계산 비용이 낮아지는 효과**를 얻으며 중요하지 않은 정보를 삭제해 **설명력이 높은 정보를 남기는 효과**도 얻을 수 있음 <br>\n",
    "즉 기존의 행렬에는 드러나지 않았던 **심층적인 의미를 확인** 가능"
   ]
  },
  {
   "cell_type": "markdown",
   "metadata": {},
   "source": [
    "<br>\n",
    "\n",
    "#### ***3. Latent Semantic Analysis, LSA***\n",
    "\n",
    "\n",
    "\n",
    "-|과일이|길고|노란|먹고|바나나|사과|싶은|저는|좋아요\n",
    "---|:---:|:---:|:---:|:---:|:---:|:---:|:---:|:---:|:---:\n",
    "문서1|0\t|0\t|0\t|1\t|0|1|1|0|0\n",
    "문서2|\t0|\t0|\t0|\t1|\t1|\t0|\t1|\t0|\t0\n",
    "문서3|\t0|\t1|\t1|\t0|\t2|\t0|\t0|\t0|\t0\n",
    "문서4|\t1|\t0|\t0|\t0|\t0|\t0|\t0|\t1|\t1"
   ]
  },
  {
   "cell_type": "code",
   "execution_count": 12,
   "metadata": {},
   "outputs": [
    {
     "name": "stdout",
     "output_type": "stream",
     "text": [
      "U (4x9)X(9x4) 직교행렬 :  (4, 4)\n",
      "V (9x4)X(4x9) 직교행렬 :  (9, 9)\n",
      "S 직사각대각행렬 특이값 분해 결과 리스트 :  (4,)\n",
      "S 직사각대각행렬 :  (4, 9)\n"
     ]
    }
   ],
   "source": [
    "# Full SVD \n",
    "import numpy as np\n",
    "A=np.array([[0,0,0,1,0,1,1,0,0],[0,0,0,1,1,0,1,0,0],[0,1,1,0,2,0,0,0,0],[1,0,0,0,0,0,0,1,1]])\n",
    "np.shape(A) # (4, 9)\n",
    "\n",
    "# SVD : 𝐴 = 𝑈Σ𝑉𝑇 \n",
    "U, s, VT = np.linalg.svd(A, full_matrices = True)\n",
    "\n",
    "print('U (4x9)X(9x4) 직교행렬 : ', U.shape)\n",
    "print('V (9x4)X(4x9) 직교행렬 : ', VT.shape)\n",
    "print('S 직사각대각행렬 특이값 분해 결과 리스트 : ', s.shape)\n",
    "\n",
    "S = np.zeros((4, 9)) # 대각 행렬의 크기인 4 x 9의 임의의 행렬 생성\n",
    "S[:4, :4] = np.diag(s) # 특이값을 대각행렬에 삽입\n",
    "# print(S.round(2))\n",
    "print('S 직사각대각행렬 : ', np.shape(S))\n",
    "\n",
    "# 특이값 수식 확인\n",
    "boolean = np.allclose(A, np.dot(np.dot(U,S), VT).round(2))\n",
    "print('𝐴 = 𝑈Σ𝑉𝑇 값이 동일한가? ', boolean)\n",
    "\n",
    "# Truncated SVD \n",
    "t = 2\n",
    "S=S[:t,:t]\n",
    "U=U[:,:t]\n",
    "VT=VT[:t,:]\n",
    "print('S shape = {}, U shape = {}, VT shape = {}'.format(S.shape, U.shape, VT.shape))\n",
    "\n",
    "A_prime=np.dot(np.dot(U,S), VT)\n",
    "print(A)\n",
    "print(A_prime.round(2))"
   ]
  },
  {
   "cell_type": "code",
   "execution_count": 11,
   "metadata": {},
   "outputs": [
    {
     "data": {
      "text/plain": [
       "array([2.69, 2.05, 1.73, 0.77])"
      ]
     },
     "execution_count": 11,
     "metadata": {},
     "output_type": "execute_result"
    }
   ],
   "source": [
    "s.round(2)"
   ]
  }
 ],
 "metadata": {
  "kernelspec": {
   "display_name": "Python 3 (ipykernel)",
   "language": "python",
   "name": "python3"
  },
  "language_info": {
   "codemirror_mode": {
    "name": "ipython",
    "version": 3
   },
   "file_extension": ".py",
   "mimetype": "text/x-python",
   "name": "python",
   "nbconvert_exporter": "python",
   "pygments_lexer": "ipython3",
   "version": "3.9.2"
  }
 },
 "nbformat": 4,
 "nbformat_minor": 4
}
