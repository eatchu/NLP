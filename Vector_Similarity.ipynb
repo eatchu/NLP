{
 "cells": [
  {
   "cell_type": "markdown",
   "metadata": {},
   "source": [
    "---\n",
    "---\n",
    "---\n",
    "# ***Vector Similarity***\n",
    "---\n",
    "---\n",
    "---\n",
    "\n",
    "1. *Cosine Similarity*\n",
    "2. *Various Similarity Methods*\n"
   ]
  },
  {
   "cell_type": "markdown",
   "metadata": {},
   "source": [
    "---\n",
    "## 1. ***Cosine Similarity***\n",
    "---\n",
    "\n",
    "\n",
    "<br>\n",
    "\n",
    "- 두 벡터 간의 코사인 각도를 이용하여 구할 수 있는 두 벡터의 유사도를 의미\n",
    "- 값이 1에 가까울수록 유사도가 높다고 판단\n",
    "- 코사인 유사도는 유사도를 구할 때, 벡터의 크기가 아니라 벡터의 방향(패턴)에 초점을 둠\n",
    "- 즉 두 벡터가 가리키는 방향이 얼마나 유사한가를 의미\n",
    "    ###### - 단지 원문 길이가 긴 문서라는 이유로 다른 문서들보다 유사도가 높아짐을 방지\n",
    "- feature vector의 각 차원의 상대적인 크기가 중요할때 사용\n",
    "- 연산량이 많은것이 단점\n",
    "\n",
    "\n",
    "![](https://wikidocs.net/images/page/24603/%EC%BD%94%EC%82%AC%EC%9D%B8%EC%9C%A0%EC%82%AC%EB%8F%84.PNG) <br>\n",
    "\n",
    "$similarity = cos(\\Theta) = \\frac{A\\cdot B}{||A||\\,||b||} = (\\Sigma_{i=1}^n A_i\\times B_i) \\; \\div \\; (\\sqrt{\\Sigma_{i=1}^n (A_i)^2} \\times \\sqrt{\\Sigma_{i=1}^n (B_i)^2})$ \n"
   ]
  },
  {
   "cell_type": "code",
   "execution_count": 8,
   "metadata": {},
   "outputs": [
    {
     "name": "stdout",
     "output_type": "stream",
     "text": [
      "compared with doc1 and doc2 =  0.67\n",
      "compared with doc1 and doc3 =  0.67\n",
      "compared with doc2 and doc3 =  1.0\n"
     ]
    }
   ],
   "source": [
    "# 문서1 : 저는 사과 좋아요 \n",
    "# 문서2 : 저는 바나나 좋아요 \n",
    "# 문서3 : 저는 바나나 좋아요 저는 바나나 좋아요\n",
    "\n",
    "from numpy import dot\n",
    "from numpy.linalg import norm\n",
    "import numpy as np\n",
    "def cos_sim(A, B):\n",
    "       return dot(A, B)/(norm(A)*norm(B))\n",
    "    \n",
    "doc1=np.array([0,1,1,1]) # 저는 사과 좋아요 \n",
    "doc2=np.array([1,0,1,1]) # 저는 바나나 좋아요 \n",
    "doc3=np.array([2,0,2,2]) # 저는 바나나 좋아요 저는 바나나 좋아요\n",
    "\n",
    "print('compared with doc1 and doc2 = ', round(cos_sim(doc1, doc2), 2)) #문서1과 문서2의 코사인 유사도\n",
    "print('compared with doc1 and doc3 = ', round(cos_sim(doc1, doc3), 2)) #문서1과 문서3의 코사인 유사도\n",
    "print('compared with doc2 and doc3 = ', round(cos_sim(doc2, doc3), 2)) #문서2과 문서3의 코사인 유사도"
   ]
  },
  {
   "cell_type": "markdown",
   "metadata": {},
   "source": [
    "# 유사도를 이용한 추천시스템 구현"
   ]
  },
  {
   "cell_type": "markdown",
   "metadata": {},
   "source": [
    "---\n",
    "## 2. ***Various Similarity Methods***\n",
    "---\n",
    "\n",
    "\n",
    "<br>\n",
    "\n",
    "\n",
    "#### 1. ***Euclidean Distance (L2 Norm)***\n",
    "\n",
    "- 2차원 좌표 평면 상에서 두 점 와 사이의 직선 거리를 구하는 문제\n",
    "- 즉, 2차원 좌표 평면에서 두 점 사이의 유클리드 거리 공식은 피타고라스의 정리를 통해 두 점 사이의 거리를 구하는 것과 동일\n",
    "\n",
    "![](https://wikidocs.net/images/page/24654/2%EC%B0%A8%EC%9B%90_%ED%8F%89%EB%A9%B4.png) <br> <br>\n",
    "\n",
    "$Euclidean = \\sqrt{(q_1-p_1)^2 + (q_2-p_2)^2 + ... + (q_n-p_n)^2} = \\sqrt{\\Sigma_{i=1}^n (q_i - p_i)^2}$ "
   ]
  },
  {
   "cell_type": "code",
   "execution_count": 9,
   "metadata": {},
   "outputs": [
    {
     "name": "stdout",
     "output_type": "stream",
     "text": [
      "2.23606797749979\n",
      "3.1622776601683795\n",
      "2.449489742783178\n"
     ]
    }
   ],
   "source": [
    "def dist(x,y):   \n",
    "    return np.sqrt(np.sum((x-y)**2))\n",
    "\n",
    "doc1 = np.array((2,3,0,1))\n",
    "doc2 = np.array((1,2,3,1))\n",
    "doc3 = np.array((2,1,2,2))\n",
    "docQ = np.array((1,1,0,1))\n",
    "\n",
    "print(dist(doc1,docQ))\n",
    "print(dist(doc2,docQ))\n",
    "print(dist(doc3,docQ))"
   ]
  },
  {
   "cell_type": "markdown",
   "metadata": {},
   "source": [
    "<br>\n",
    "\n",
    "\n",
    "#### 2. ***Jaccard similarity***\n",
    "\n",
    "- 합집합에서 교집합의 비율을 구함\n",
    "- 0과 1사이의 값을 가지며, 만약 두 집합이 동일하다면 1의 값을 가지고, 두 집합의 공통 원소가 없다면 0의 값을 갖음\n",
    "\n",
    "$J(A,B) = \\frac{|A\\cap B|}{A\\cup B} = \\frac{|A\\cap B|}{|A| + |B| - |A\\cap B|}$ <br> <br>\n",
    "$J(doc_1,doc_2) = \\frac{doc_1 \\cap doc_2}{doc_1 \\cup doc_2}$"
   ]
  },
  {
   "cell_type": "code",
   "execution_count": 1,
   "metadata": {},
   "outputs": [
    {
     "name": "stdout",
     "output_type": "stream",
     "text": [
      "* Tokenize result *\n",
      "['apple', 'banana', 'everyone', 'like', 'likey', 'watch', 'card', 'holder']\n",
      "['apple', 'banana', 'coupon', 'passport', 'love', 'you']\n",
      "* Union result *\n",
      "{'passport', 'banana', 'card', 'everyone', 'watch', 'coupon', 'like', 'apple', 'love', 'holder', 'likey', 'you'}\n",
      "* Intersect result *\n",
      "{'banana', 'apple'}\n",
      "*** Jaccard Similarity ***\n",
      "0.16666666666666666\n"
     ]
    }
   ],
   "source": [
    "# 다음과 같은 두 개의 문서가 있습니다.\n",
    "# 두 문서 모두에서 등장한 단어는 apple과 banana 2개.\n",
    "doc1 = \"apple banana everyone like likey watch card holder\"\n",
    "doc2 = \"apple banana coupon passport love you\"\n",
    "\n",
    "# 토큰화를 수행합니다.\n",
    "tokenized_doc1 = doc1.split()\n",
    "tokenized_doc2 = doc2.split()\n",
    "\n",
    "# 토큰화 결과 출력\n",
    "print('* Tokenize result *')\n",
    "print(tokenized_doc1)\n",
    "print(tokenized_doc2)\n",
    "\n",
    "union = set(tokenized_doc1).union(set(tokenized_doc2))\n",
    "print('* Union result *')\n",
    "print(union)\n",
    "\n",
    "intersection = set(tokenized_doc1).intersection(set(tokenized_doc2))\n",
    "print('* Intersect result *')\n",
    "print(intersection)\n",
    "\n",
    "print('*** Jaccard Similarity ***')\n",
    "print(len(intersection)/len(union)) # 2를 12로 나눔."
   ]
  },
  {
   "cell_type": "markdown",
   "metadata": {},
   "source": [
    "<br>\n",
    "\n",
    "\n",
    "#### 3. ***Manhattan Distance (L1 Norm)***\n",
    "\n",
    "$Manhattan = d_{L1}(w,v) = \\Sigma_{i=1}^d |w_i - v_i|$\n",
    "\n",
    "\n",
    "<br>\n",
    "\n",
    "\n",
    "#### 4. ***Infinity Norm***\n",
    "\n",
    "$d_{inf}(w,v) = max(|w_1 - v_1|, |w_2 - v_2|, ... , |w_d - v_d|)$"
   ]
  }
 ],
 "metadata": {
  "kernelspec": {
   "display_name": "Python 3",
   "language": "python",
   "name": "python3"
  },
  "language_info": {
   "codemirror_mode": {
    "name": "ipython",
    "version": 3
   },
   "file_extension": ".py",
   "mimetype": "text/x-python",
   "name": "python",
   "nbconvert_exporter": "python",
   "pygments_lexer": "ipython3",
   "version": "3.7.9"
  }
 },
 "nbformat": 4,
 "nbformat_minor": 4
}
