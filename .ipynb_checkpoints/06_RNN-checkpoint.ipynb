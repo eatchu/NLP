{
 "cells": [
  {
   "cell_type": "markdown",
   "id": "anticipated-blank",
   "metadata": {},
   "source": [
    "---\n",
    "---\n",
    "---\n",
    "# ***Recurrent Neural Network, RNN***\n",
    "---\n",
    "---\n",
    "---\n",
    "\n",
    "1. *Recurrent Neural Network, RNN*\n",
    "2. *Long Short-Term Memory, LSTM*\n",
    "3. *Gated Recurrent Unit, GRU*\n",
    "4. *SimpleRNN과 LSTM*\n",
    "5. *Recurrent Neural Network Language Model, RNNLM*\n",
    "6. *Text Generation using RNN*"
   ]
  },
  {
   "cell_type": "markdown",
   "id": "cutting-response",
   "metadata": {},
   "source": [
    "---\n",
    "## 1. ***Recurrent Neural Network, RNN***\n",
    "---\n",
    "\n",
    " - RNN은 대표적인 sequence model\n",
    " - DNN은 Feed Forward Neural Network 구조지만 RNN의 경우 Recurrent Neural Network 구조를 가짐\n",
    " - 즉, 출력층으로만 향하는 기존의 신경망과 달리 RNN은 출력층의 값이 다시 은닉층 노드로 향하는 순환신경망 구조\n",
    "\n",
    "\n",
    "<br>\n",
    "\n",
    "#### ***1. RNN***\n",
    "\n",
    " - RNN에서의 cell이란 ?\n",
    "     - 은닉층에서 활성화 함수를 통해 결과를 내보내는 역할을 하는 노드\n",
    "     - 이 셀은 이전의 값을 기억하려고 하는 일종의 메모리 역할을 수행하므로 이를 메모리 셀 또는 RNN 셀이라고 표현\n",
    "     - 은닉층의 메모리 셀은 각각의 시점(time step)에서 바로 이전 시점에서의 은닉층의 메모리 셀에서 나온 값을 자신의 입력으로 사용하는 재귀적 활동을 하고 있음\n",
    "     - 메모리 셀이 출력층 방향으로 또는 다음 시점 t+1의 자신에게 보내는 값을 은닉 상태(hidden state)라고 함\n",
    "\n",
    "> RNN Structure <br>\n",
    "\n",
    "![](https://wikidocs.net/images/page/22886/rnn_image2_ver3.PNG) <br>\n",
    "\n",
    "> Detailed Structure <br>\n",
    "\n",
    "![](https://wikidocs.net/images/page/22886/rnn_image2.5.PNG) <br>\n",
    "\n",
    "> RNN Equation <br>\n",
    "\n",
    "![](https://wikidocs.net/images/page/22886/rnn_image4_ver2.PNG)<br>\n",
    "은닉층 : $h_t = tanh(w_x x_t + w_h h_{t-1} + b)$ <br>\n",
    "출력층 : $y_t = f(w_y h_t + b)$\n",
    "\n",
    "> RNN Input Shape <br>\n",
    "\n",
    "![](https://wikidocs.net/images/page/22886/rnn_image6between7.PNG)\n",
    "\n",
    "- How to print output state from cell?\n",
    "    1. 메모리 셀의 최종 시점의 은닉 상태만을 리턴하고자 한다면 (batch_size, output_dim) 크기의 2D 텐서를 리턴\n",
    "    2. 메모리 셀의 각 시점(time step)의 은닉 상태값들을 모아서 전체 시퀀스를 리턴하고자 한다면 (batch_size, timesteps, output_dim) 크기의 3D 텐서를 리턴\n",
    "        - using `return_sequences = True`"
   ]
  },
  {
   "cell_type": "code",
   "execution_count": 2,
   "id": "indian-confusion",
   "metadata": {},
   "outputs": [
    {
     "ename": "ModuleNotFoundError",
     "evalue": "No module named 'numpy'",
     "output_type": "error",
     "traceback": [
      "\u001b[0;31m---------------------------------------------------------------------------\u001b[0m",
      "\u001b[0;31mModuleNotFoundError\u001b[0m                       Traceback (most recent call last)",
      "\u001b[0;32m<ipython-input-2-a08c4a6a49f7>\u001b[0m in \u001b[0;36m<module>\u001b[0;34m\u001b[0m\n\u001b[1;32m      1\u001b[0m \u001b[0;31m# 함수 사용 없이 의사코드로 RNN 구현하기\u001b[0m\u001b[0;34m\u001b[0m\u001b[0;34m\u001b[0m\u001b[0;34m\u001b[0m\u001b[0m\n\u001b[0;32m----> 2\u001b[0;31m \u001b[0;32mimport\u001b[0m \u001b[0mnumpy\u001b[0m \u001b[0;32mas\u001b[0m \u001b[0mnp\u001b[0m\u001b[0;34m\u001b[0m\u001b[0;34m\u001b[0m\u001b[0m\n\u001b[0m\u001b[1;32m      3\u001b[0m \u001b[0;34m\u001b[0m\u001b[0m\n\u001b[1;32m      4\u001b[0m \u001b[0mtimesteps\u001b[0m \u001b[0;34m=\u001b[0m \u001b[0;36m10\u001b[0m \u001b[0;31m# 시점의 수. NLP에서는 보통 문장의 길이가 된다.\u001b[0m\u001b[0;34m\u001b[0m\u001b[0;34m\u001b[0m\u001b[0m\n\u001b[1;32m      5\u001b[0m \u001b[0minput_dim\u001b[0m \u001b[0;34m=\u001b[0m \u001b[0;36m4\u001b[0m \u001b[0;31m# 입력의 차원. NLP에서는 보통 단어 벡터의 차원이 된다.\u001b[0m\u001b[0;34m\u001b[0m\u001b[0;34m\u001b[0m\u001b[0m\n",
      "\u001b[0;31mModuleNotFoundError\u001b[0m: No module named 'numpy'"
     ]
    }
   ],
   "source": [
    "# 함수 사용 없이 의사코드로 RNN 구현하기\n",
    "import numpy as np\n",
    "\n",
    "timesteps = 10 # 시점의 수. NLP에서는 보통 문장의 길이가 된다.\n",
    "input_dim = 4 # 입력의 차원. NLP에서는 보통 단어 벡터의 차원이 된다.\n",
    "hidden_size = 8 # 은닉 상태의 크기. 메모리 셀의 용량이다.\n",
    "\n",
    "inputs = np.random.random((timesteps, input_dim)) # 입력에 해당되는 2D 텐서\n",
    "\n",
    "hidden_state_t = np.zeros((hidden_size,)) # 초기 은닉 상태는 0(벡터)로 초기화\n",
    "# 은닉 상태의 크기 hidden_size로 은닉 상태를 만듬.\n",
    "# print(hidden_state_t) \n",
    "\n",
    "Wx = np.random.random((hidden_size, input_dim))  # (8, 4)크기의 2D 텐서 생성. 입력에 대한 가중치.\n",
    "Wh = np.random.random((hidden_size, hidden_size)) # (8, 8)크기의 2D 텐서 생성. 은닉 상태에 대한 가중치.\n",
    "b = np.random.random((hidden_size,)) # (8,)크기의 1D 텐서 생성. 이 값은 편향(bias).\n",
    "\n",
    "total_hidden_states = []\n",
    "\n",
    "# 메모리 셀 동작\n",
    "for input_t in inputs: # 각 시점에 따라서 입력값이 입력됨.\n",
    "  output_t = np.tanh(np.dot(Wx,input_t) + np.dot(Wh,hidden_state_t) + b) # Wx * Xt + Wh * Ht-1 + b(bias)\n",
    "  total_hidden_states.append(list(output_t)) # 각 시점의 은닉 상태의 값을 계속해서 축적\n",
    "  print(np.shape(total_hidden_states)) # 각 시점 t별 메모리 셀의 출력의 크기는 (timestep, output_dim)\n",
    "  hidden_state_t = output_t\n",
    "\n",
    "total_hidden_states = np.stack(total_hidden_states, axis = 0) \n",
    "# 출력 시 값을 깔끔하게 해준다.\n",
    "\n",
    "print(total_hidden_states) # (timesteps, output_dim)의 크기. 이 경우 (10, 8)의 크기를 가지는 메모리 셀의 2D 텐서를 출력."
   ]
  },
  {
   "cell_type": "code",
   "execution_count": null,
   "id": "focal-security",
   "metadata": {},
   "outputs": [],
   "source": []
  }
 ],
 "metadata": {
  "kernelspec": {
   "display_name": "Python 3",
   "language": "python",
   "name": "python3"
  },
  "language_info": {
   "codemirror_mode": {
    "name": "ipython",
    "version": 3
   },
   "file_extension": ".py",
   "mimetype": "text/x-python",
   "name": "python",
   "nbconvert_exporter": "python",
   "pygments_lexer": "ipython3",
   "version": "3.9.2"
  }
 },
 "nbformat": 4,
 "nbformat_minor": 5
}
