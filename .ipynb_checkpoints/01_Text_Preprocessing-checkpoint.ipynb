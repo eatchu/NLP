{
 "cells": [
  {
   "cell_type": "markdown",
   "metadata": {},
   "source": [
    "---\n",
    "# *Text Preprocessing*\n",
    "---\n",
    "1. *Tokenization*\n",
    "2. *Cleaning and Nomalization*\n",
    "3. *Stemming and Lemmatization*\n",
    "4. *Stopword*\n",
    "5. *Regular Expression*\n",
    "6. *Integer Encoding*\n",
    "7. *Padding*\n",
    "8. *One-Hot-Encoding*\n",
    "9. *Splitting Data*\n",
    "10. *Text Preprocessing Tools for Koreans Text*"
   ]
  },
  {
   "cell_type": "markdown",
   "metadata": {},
   "source": []
  },
  {
   "cell_type": "markdown",
   "metadata": {},
   "source": [
    "### ***1. Tokenization***\n",
    "\n",
    " - *자연어처리에서 크롤링 등으로 얻어낸 **코퍼스(corpus)** 데이터를 토큰(token)이라 불리는 단위로 작업이며 의미있는 단위로 토큰을 정의*\n",
    " \n",
    "     - ***corpus(말뭉치)***\n",
    "        - 자연어처리를 위한 문장들로 구성된 데이터셋\n",
    "        - 자연어처리 연구를 염두에 두고 수집된 대량의 텍스트 데이터\n",
    "        - parallel corpus : I love to go to school == 나는 학교에 가는 것을 좋아한다 -> labeling\n",
    "        \n",
    " \n",
    "#### 1. ***단어 토큰화***\n",
    " - *구두점(punctuation)과 같은 문자를 제외 시키는 단어 토큰화* \n",
    ">*입력 : Time is an illusion. Lunchtime double so!* <br>\n",
    "*출력 : \"Time\", \"is\", \"an\", \"illustion\", \"Lunchtime\", \"double\", \"so\"*\n",
    " - *하지만 이런 토큰화 과정 중에서는 예상치 못한 문제점이 존재*\n",
    ">*입력 : **Don't** be fooled by the dark sounding name, Mr. **Jone's** Orphanage is as cheery as cheery goes for a pastry shop.* <br>\n",
    "*출력 : ???* <br> <br>\n",
    "*How to tokenization with **Don't** and **Jone's** word?* <br>\n",
    "*1. word_tokenize(nltk) :* ***[Do / n't]*** *,* ***[Jone / 's]***<br>\n",
    "*2. WordPunctTokenizer(nltk) : **[Don / ' / t]**, **[Jone / ' / s]** => 구두점을 별도로 분리*<br>\n",
    "*3. text_to_word_sequence(tensorflow) : **[Don't]**, **[Jone's]** => 구두점을 제거하되 아포스트로피는 보존*<br>\n",
    "***=> 코드를 통해 알아보자***\n"
   ]
  },
  {
   "cell_type": "code",
   "execution_count": 1,
   "metadata": {},
   "outputs": [
    {
     "name": "stdout",
     "output_type": "stream",
     "text": [
      "['Do', \"n't\", 'be', 'fooled', 'by', 'the', 'dark', 'sounding', 'name', ',', 'Mr.', 'Jone', \"'s\", 'Orphanage', 'is', 'as', 'cheery', 'as', 'cheery', 'goes', 'for', 'a', 'pastry', 'shop', '.']\n"
     ]
    }
   ],
   "source": [
    "from nltk.tokenize import word_tokenize  \n",
    "print(word_tokenize(\"Don't be fooled by the dark sounding name, Mr. Jone's Orphanage is as cheery as cheery goes for a pastry shop.\"))  "
   ]
  },
  {
   "cell_type": "code",
   "execution_count": 2,
   "metadata": {},
   "outputs": [
    {
     "name": "stdout",
     "output_type": "stream",
     "text": [
      "['Don', \"'\", 't', 'be', 'fooled', 'by', 'the', 'dark', 'sounding', 'name', ',', 'Mr', '.', 'Jone', \"'\", 's', 'Orphanage', 'is', 'as', 'cheery', 'as', 'cheery', 'goes', 'for', 'a', 'pastry', 'shop', '.']\n"
     ]
    }
   ],
   "source": [
    "from nltk.tokenize import WordPunctTokenizer  \n",
    "print(WordPunctTokenizer().tokenize(\"Don't be fooled by the dark sounding name, Mr. Jone's Orphanage is as cheery as cheery goes for a pastry shop.\"))"
   ]
  },
  {
   "cell_type": "code",
   "execution_count": 3,
   "metadata": {},
   "outputs": [
    {
     "name": "stdout",
     "output_type": "stream",
     "text": [
      "[\"don't\", 'be', 'fooled', 'by', 'the', 'dark', 'sounding', 'name', 'mr', \"jone's\", 'orphanage', 'is', 'as', 'cheery', 'as', 'cheery', 'goes', 'for', 'a', 'pastry', 'shop']\n"
     ]
    }
   ],
   "source": [
    "from tensorflow.keras.preprocessing.text import text_to_word_sequence\n",
    "print(text_to_word_sequence(\"Don't be fooled by the dark sounding name, Mr. Jone's Orphanage is as cheery as cheery goes for a pastry shop.\"))"
   ]
  },
  {
   "cell_type": "markdown",
   "metadata": {},
   "source": [
    " - *단어 토큰화 시 고려사항*\n",
    " > *1) 구두점이나 특수문자를 제외 할 경우 : **.**(문장의 마침을 의미) / **M&M**(구두점을 포함하는 단어) / **$-** (가격이나 날짜를 의미하는 단어) 등*<br>\n",
    "*2) 줄임말과 단어 내에 뛰어쓰기가 있는 경우 : we're -> we are / New York (뛰어쓰기가 포함되어야 하는 단어)*\n",
    "\n",
    " - *표준 토큰화 예제 : TreebankWordTokenizer(nltk)*\n",
    "     - *하이푼(-)으로 구성된 단어는 하나로 유지*\n",
    "     - *아포스트로피로 접어가 함께하는 단어는 분리*\n",
    " "
   ]
  },
  {
   "cell_type": "code",
   "execution_count": 4,
   "metadata": {},
   "outputs": [
    {
     "name": "stdout",
     "output_type": "stream",
     "text": [
      "['Starting', 'a', 'home-based', 'restaurant', 'may', 'be', 'an', 'ideal.', 'it', 'does', \"n't\", 'have', 'a', 'food', 'chain', 'or', 'restaurant', 'of', 'their', 'own', '.']\n"
     ]
    }
   ],
   "source": [
    "from nltk.tokenize import TreebankWordTokenizer\n",
    "tokenizer=TreebankWordTokenizer()\n",
    "text=\"Starting a home-based restaurant may be an ideal. it doesn't have a food chain or restaurant of their own.\"\n",
    "print(tokenizer.tokenize(text))"
   ]
  },
  {
   "cell_type": "markdown",
   "metadata": {},
   "source": [
    "#### 2. ***문장 토큰화(Sentence Tokenization)***\n"
   ]
  }
 ],
 "metadata": {
  "kernelspec": {
   "display_name": "Python 3",
   "language": "python",
   "name": "python3"
  },
  "language_info": {
   "codemirror_mode": {
    "name": "ipython",
    "version": 3
   },
   "file_extension": ".py",
   "mimetype": "text/x-python",
   "name": "python",
   "nbconvert_exporter": "python",
   "pygments_lexer": "ipython3",
   "version": "3.8.5"
  }
 },
 "nbformat": 4,
 "nbformat_minor": 4
}
